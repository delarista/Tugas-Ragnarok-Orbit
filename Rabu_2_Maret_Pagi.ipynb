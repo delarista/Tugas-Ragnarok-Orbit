{
 "cells": [
  {
   "cell_type": "markdown",
   "id": "244e4248",
   "metadata": {},
   "source": [
    "##### Nama= Dela Rista Damayanti"
   ]
  },
  {
   "cell_type": "markdown",
   "id": "f071ade6",
   "metadata": {},
   "source": [
    "## Nomor 1"
   ]
  },
  {
   "cell_type": "markdown",
   "id": "3d9893dd",
   "metadata": {},
   "source": [
    "##### 1. (b and c) = False\n",
    "##### 2. b or c = True\n",
    "##### 3. not a and b = True and True = True\n",
    "##### 4 (a and b) or not c = False or True =  True\n",
    "##### 5. not b and not (a or c) = False and not (False) = False and False = False"
   ]
  },
  {
   "cell_type": "code",
   "execution_count": 5,
   "id": "c250033b",
   "metadata": {},
   "outputs": [
    {
     "name": "stdout",
     "output_type": "stream",
     "text": [
      "False\n",
      "True\n",
      "True\n",
      "True\n",
      "False\n"
     ]
    }
   ],
   "source": [
    "a = False\n",
    "b = True\n",
    "c = False\n",
    "\n",
    "print(b and c)\n",
    "print(b or c)\n",
    "print(not a and b)\n",
    "print((a and b) or not c)\n",
    "print(not b and not (a or c))"
   ]
  },
  {
   "cell_type": "markdown",
   "id": "b5e12efd",
   "metadata": {},
   "source": [
    "## Nomor 2"
   ]
  },
  {
   "cell_type": "code",
   "execution_count": 7,
   "id": "31a18405",
   "metadata": {},
   "outputs": [
    {
     "name": "stdout",
     "output_type": "stream",
     "text": [
      "Hello!\n",
      "Enter something= Dela\n",
      "You entered:  Dela\n"
     ]
    }
   ],
   "source": [
    "print(\"Hello!\") #string diapit petik\n",
    "something = input('Enter something= ') #tanda = hanya satu dan string diapit petik dua\n",
    "print('You entered: ', something) #diberi tanda koma untuk mengambil value dari variable something"
   ]
  },
  {
   "cell_type": "markdown",
   "id": "0105a45d",
   "metadata": {},
   "source": [
    "## Nomor 3"
   ]
  },
  {
   "cell_type": "code",
   "execution_count": 43,
   "id": "49294f2e",
   "metadata": {},
   "outputs": [
    {
     "name": "stdout",
     "output_type": "stream",
     "text": [
      "Hello!\n",
      "Enter something: jek\n",
      "I don't know what, jek means.\n"
     ]
    }
   ],
   "source": [
    "print('Hello!')\n",
    "something = input(\"Enter something: \")\n",
    "if something == \"hello\": \n",
    "    print(\"Hello for you too!\")\n",
    "elif something == 'hi':\n",
    "    print(\"Hi there!\")\n",
    "else:\n",
    "    print(\"I don't know what,\", something, \"means.\")"
   ]
  },
  {
   "cell_type": "markdown",
   "id": "626d351c",
   "metadata": {},
   "source": [
    "## Nomor 4"
   ]
  },
  {
   "cell_type": "code",
   "execution_count": 20,
   "id": "d59885ad",
   "metadata": {},
   "outputs": [
    {
     "name": "stdout",
     "output_type": "stream",
     "text": [
      "halo hai (ke- 0 )\n",
      "halo hai (ke- 1 )\n",
      "halo hai (ke- 2 )\n",
      "halo hai (ke- 3 )\n",
      "halo hai (ke- 4 )\n",
      "halo hai (ke- 5 )\n",
      "halo hai (ke- 6 )\n",
      "halo hai (ke- 7 )\n",
      "halo hai (ke- 8 )\n",
      "halo hai (ke- 9 )\n",
      "halo hai (ke- 10 )\n",
      "halo hai (ke- 11 )\n",
      "halo hai (ke- 12 )\n",
      "halo hai (ke- 13 )\n",
      "halo hai (ke- 14 )\n",
      "halo hai (ke- 15 )\n",
      "halo hai (ke- 16 )\n",
      "halo hai (ke- 17 )\n",
      "halo hai (ke- 18 )\n",
      "halo hai (ke- 19 )\n",
      "halo hai (ke- 20 )\n",
      "halo hai (ke- 21 )\n",
      "halo hai (ke- 22 )\n",
      "halo hai (ke- 23 )\n",
      "halo hai (ke- 24 )\n",
      "halo hai (ke- 25 )\n",
      "halo hai (ke- 26 )\n",
      "halo hai (ke- 27 )\n",
      "halo hai (ke- 28 )\n",
      "halo hai (ke- 29 )\n",
      "halo hai (ke- 30 )\n",
      "halo hai (ke- 31 )\n",
      "halo hai (ke- 32 )\n",
      "halo hai (ke- 33 )\n",
      "halo hai (ke- 34 )\n",
      "halo hai (ke- 35 )\n",
      "halo hai (ke- 36 )\n",
      "halo hai (ke- 37 )\n",
      "halo hai (ke- 38 )\n",
      "halo hai (ke- 39 )\n",
      "halo hai (ke- 40 )\n",
      "halo hai (ke- 41 )\n",
      "halo hai (ke- 42 )\n",
      "halo hai (ke- 43 )\n",
      "halo hai (ke- 44 )\n",
      "halo hai (ke- 45 )\n",
      "halo hai (ke- 46 )\n",
      "halo hai (ke- 47 )\n",
      "halo hai (ke- 48 )\n",
      "halo hai (ke- 49 )\n",
      "halo hai (ke- 50 )\n",
      "halo hai (ke- 51 )\n",
      "halo hai (ke- 52 )\n",
      "halo hai (ke- 53 )\n",
      "halo hai (ke- 54 )\n",
      "halo hai (ke- 55 )\n",
      "halo hai (ke- 56 )\n",
      "halo hai (ke- 57 )\n",
      "halo hai (ke- 58 )\n",
      "halo hai (ke- 59 )\n",
      "halo hai (ke- 60 )\n",
      "halo hai (ke- 61 )\n",
      "halo hai (ke- 62 )\n",
      "halo hai (ke- 63 )\n",
      "halo hai (ke- 64 )\n",
      "halo hai (ke- 65 )\n",
      "halo hai (ke- 66 )\n",
      "halo hai (ke- 67 )\n",
      "halo hai (ke- 68 )\n",
      "halo hai (ke- 69 )\n",
      "halo hai (ke- 70 )\n",
      "halo hai (ke- 71 )\n",
      "halo hai (ke- 72 )\n",
      "halo hai (ke- 73 )\n",
      "halo hai (ke- 74 )\n",
      "halo hai (ke- 75 )\n",
      "halo hai (ke- 76 )\n",
      "halo hai (ke- 77 )\n",
      "halo hai (ke- 78 )\n",
      "halo hai (ke- 79 )\n",
      "halo hai (ke- 80 )\n",
      "halo hai (ke- 81 )\n",
      "halo hai (ke- 82 )\n",
      "halo hai (ke- 83 )\n",
      "halo hai (ke- 84 )\n",
      "halo hai (ke- 85 )\n",
      "halo hai (ke- 86 )\n",
      "halo hai (ke- 87 )\n",
      "halo hai (ke- 88 )\n",
      "halo hai (ke- 89 )\n",
      "halo hai (ke- 90 )\n",
      "halo hai (ke- 91 )\n",
      "halo hai (ke- 92 )\n",
      "halo hai (ke- 93 )\n",
      "halo hai (ke- 94 )\n",
      "halo hai (ke- 95 )\n",
      "halo hai (ke- 96 )\n",
      "halo hai (ke- 97 )\n",
      "halo hai (ke- 98 )\n",
      "halo hai (ke- 99 )\n"
     ]
    }
   ],
   "source": [
    "for i in range(0, 100):\n",
    "    print('halo hai', \"(ke-\", i, \")\")"
   ]
  },
  {
   "cell_type": "markdown",
   "id": "dc9b9bd7",
   "metadata": {},
   "source": [
    "## Nomor 5"
   ]
  },
  {
   "cell_type": "markdown",
   "id": "610d82b9",
   "metadata": {},
   "source": [
    "#### Tabel Kemanangan\n",
    "###### batu x gunting = pemain 1\n",
    "###### batu x kertas = pemain 2\n",
    "###### batu x batu = seri\n",
    "###### gunting x gunting = seri\n",
    "###### gunting x batu = pemain 2\n",
    "###### gunting x kertas = pemain 1\n",
    "###### kertas x kertas = seri\n",
    "###### kertas x gunting = pemain 2\n",
    "###### kertas x batu = pemain 1"
   ]
  },
  {
   "cell_type": "code",
   "execution_count": 78,
   "id": "f062d3a4",
   "metadata": {},
   "outputs": [
    {
     "name": "stdout",
     "output_type": "stream",
     "text": [
      "Pemain 1? batu\n",
      "Pemain 2? gunting\n",
      "Player 1 Wins!!\n"
     ]
    }
   ],
   "source": [
    "b = 'batu'\n",
    "g = 'gunting'\n",
    "k = 'kertas'\n",
    "\n",
    "player1 = input(\"Pemain 1? \")\n",
    "player2 = input(\"Pemain 2? \")\n",
    "\n",
    "if (player1 == b and player2 == g):\n",
    "    print(\"Player 1 Wins!!\")\n",
    "elif (player1 == b and player2 == k):\n",
    "    print(\"Player 2 Wins!!\")\n",
    "elif (player1 == b and player2 == b):\n",
    "    print(\"Seri\")\n",
    "elif (player1 == g and player2 == g):\n",
    "    print(\"Seri\")\n",
    "elif (player1 == g and player2 == b):\n",
    "    print(\"Player 2 Wins!!\")\n",
    "elif (player1 == g and player2 == k):\n",
    "    print(\"Player 1 Wins!!\")\n",
    "elif (player1 == k and player2 == k):\n",
    "    print(\"Seri\")\n",
    "elif (player1 == k and player2 == g):\n",
    "    print(\"Player 2 Wins!!\")\n",
    "elif (player1 == k and player2 == b):\n",
    "    print(\"Player 1 Wins!!\")\n",
    "else:\n",
    "    print(\"Masukkan salah!\")"
   ]
  },
  {
   "cell_type": "markdown",
   "id": "72260050",
   "metadata": {},
   "source": [
    "## Nomor 6"
   ]
  },
  {
   "cell_type": "code",
   "execution_count": 44,
   "id": "8e32f8ba",
   "metadata": {},
   "outputs": [
    {
     "name": "stdout",
     "output_type": "stream",
     "text": [
      "Masukkan kata: berh\n",
      "Masukkan kata: berhenti\n"
     ]
    }
   ],
   "source": [
    "while(True): \n",
    "    masukan = input(\"Masukkan kata: \")\n",
    "    if (masukan == \"berhenti\"):\n",
    "        break"
   ]
  },
  {
   "cell_type": "markdown",
   "id": "c7e108dc",
   "metadata": {},
   "source": [
    "## Nomor 7"
   ]
  },
  {
   "cell_type": "code",
   "execution_count": 70,
   "id": "17971d56",
   "metadata": {},
   "outputs": [
    {
     "name": "stdout",
     "output_type": "stream",
     "text": [
      "MENU JAJANAN PASAR\n",
      "1. InTeagral - Rp 28000\n",
      "2. MaTeamatika - Rp 25000\n",
      "3. Mantappu Tea - Rp 28000\n",
      "4. Oreo Milk Tea - Rp 25000\n",
      "5. NuTealla - Rp 28000\n",
      "\n",
      "Pilih menu: 1\n",
      "Masukkan berapa banyak kamu ingin beli?: 2\n",
      "Kamu memesan InTeagral dengan harga Rp 56000 terima kasih sudah berbelanja\n",
      "Pilih menu: cukup\n",
      "Terima kasih sudah berbelanja di Menantea!!\n"
     ]
    }
   ],
   "source": [
    "menu = \"\"\"MENU JAJANAN PASAR\n",
    "1. InTeagral - Rp 28000\n",
    "2. MaTeamatika - Rp 25000\n",
    "3. Mantappu Tea - Rp 28000\n",
    "4. Oreo Milk Tea - Rp 25000\n",
    "5. NuTealla - Rp 28000\n",
    "\"\"\"\n",
    "print(menu)\n",
    "\n",
    "while(True):\n",
    "    masukan = input(\"Pilih menu: \")\n",
    "    if masukan == '1': \n",
    "        jumlah = int(input(\"Masukkan berapa banyak kamu ingin beli?: \"))\n",
    "        print(\"Kamu memesan InTeagral dengan harga Rp\", 28000 * jumlah, \"terima kasih sudah berbelanja\")\n",
    "    elif masukan == '2':\n",
    "        jumlah = int(input(\"Masukkan berapa banyak kamu ingin beli?: \"))\n",
    "        print(\"Kamu memesan MaTeamatika dengan harga Rp\", 25000 * jumlah, \"terima kasih sudah berbelanja\")\n",
    "    elif masukan == '3':\n",
    "        jumlah = int(input(\"Masukkan berapa banyak kamu ingin beli?: \"))\n",
    "        print(\"Kamu memesan Mantappu Tea dengan harga Rp\", 28000 * jumlah, \"terima kasih sudah berbelanja\")\n",
    "    elif masukan == '4':\n",
    "        jumlah = int(input(\"Masukkan berapa banyak kamu ingin beli?: \"))\n",
    "        print(\"Kamu memesan Oreo Milk Tea dengan harga Rp\", 25000 * jumlah, \"terima kasih sudah berbelanja\")\n",
    "    elif masukan == '5':\n",
    "        jumlah = int(input(\"Masukkan berapa banyak kamu ingin beli?: \"))\n",
    "        print(\"Kamu memesan NuTealla dengan harga Rp\", 28000 * jumlah, \"terima kasih sudah berbelanja\")\n",
    "    elif masukan == 'cukup':\n",
    "        print(\"Terima kasih sudah berbelanja di Menantea!!\")\n",
    "        break"
   ]
  },
  {
   "cell_type": "markdown",
   "id": "fa5a2a5e",
   "metadata": {},
   "source": [
    "## Nomor 8"
   ]
  },
  {
   "cell_type": "code",
   "execution_count": null,
   "id": "64acce81",
   "metadata": {},
   "outputs": [],
   "source": [
    "menu = \"\"\"MENU JAJANAN PASAR\n",
    "1. InTeagral - Rp 28000\n",
    "2. MaTeamatika - Rp 25000\n",
    "3. Mantappu Tea - Rp 28000\n",
    "4. Oreo Milk Tea - Rp 25000\n",
    "5. NuTealla - Rp 28000\n",
    "\"\"\"\n",
    "print(menu)\n",
    "\n",
    "while(True):\n",
    "    masukan = input(\"Pilih menu: \")\n",
    "    if masukan == '1': \n",
    "        print(\"Kamu memesan InTeagral dengan harga Rp\", 28000 * jumlah, \"terima kasih sudah berbelanja\")\n",
    "    elif masukan == '2':\n",
    "        print(\"Kamu memesan MaTeamatika dengan harga Rp\", 25000 * jumlah, \"terima kasih sudah berbelanja\")\n",
    "    elif masukan == '3':\n",
    "        print(\"Kamu memesan Mantappu Tea dengan harga Rp\", 28000 * jumlah, \"terima kasih sudah berbelanja\")\n",
    "    elif masukan == '4':\n",
    "        print(\"Kamu memesan Oreo Milk Tea dengan harga Rp\", 25000 * jumlah, \"terima kasih sudah berbelanja\")\n",
    "    elif masukan == '5':\n",
    "        print(\"Kamu memesan NuTealla dengan harga Rp\", 28000 * jumlah, \"terima kasih sudah berbelanja\")\n",
    "    elif masukan == 'cukup':\n",
    "        print(\"Terima kasih sudah berbelanja di Menantea!!\")\n",
    "        break"
   ]
  }
 ],
 "metadata": {
  "kernelspec": {
   "display_name": "Python 3 (ipykernel)",
   "language": "python",
   "name": "python3"
  },
  "language_info": {
   "codemirror_mode": {
    "name": "ipython",
    "version": 3
   },
   "file_extension": ".py",
   "mimetype": "text/x-python",
   "name": "python",
   "nbconvert_exporter": "python",
   "pygments_lexer": "ipython3",
   "version": "3.9.7"
  }
 },
 "nbformat": 4,
 "nbformat_minor": 5
}
