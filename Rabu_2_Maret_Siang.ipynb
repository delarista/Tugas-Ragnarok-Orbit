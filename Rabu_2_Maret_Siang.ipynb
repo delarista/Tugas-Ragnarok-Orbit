{
 "cells": [
  {
   "cell_type": "markdown",
   "id": "500ea5d5",
   "metadata": {},
   "source": [
    "##### Nama= Dela Rista Damayanti"
   ]
  },
  {
   "cell_type": "markdown",
   "id": "764df8e5",
   "metadata": {},
   "source": [
    "## Nomor 1"
   ]
  },
  {
   "cell_type": "code",
   "execution_count": 9,
   "id": "fb6f04b8",
   "metadata": {},
   "outputs": [
    {
     "name": "stdout",
     "output_type": "stream",
     "text": [
      "Masukkan bilangan m: 4\n",
      "Masukkan bilangan n: 3\n",
      "\n",
      "False\n"
     ]
    }
   ],
   "source": [
    "def cek_divisible(m, n):\n",
    "    if m%n == 0:\n",
    "        return True\n",
    "    else:\n",
    "        return False\n",
    "\n",
    "m = int(input(\"Masukkan bilangan m: \"))\n",
    "n = int(input(\"Masukkan bilangan n: \"))\n",
    "\n",
    "print()\n",
    "print(cek_divisible(m, n))"
   ]
  },
  {
   "cell_type": "markdown",
   "id": "543be290",
   "metadata": {},
   "source": [
    "## Nomor 2"
   ]
  },
  {
   "cell_type": "code",
   "execution_count": 34,
   "id": "095fe06a",
   "metadata": {},
   "outputs": [
    {
     "name": "stdout",
     "output_type": "stream",
     "text": [
      "\n",
      "    MENU\n",
      "    1. Soup and salad\n",
      "    2. Pasta with meat sauce\n",
      "    3. Chef's special\n",
      "    \n",
      "Which number would you like to order? 1\n",
      "Sorry, that is not a valid choice\n"
     ]
    }
   ],
   "source": [
    "def menu(m):\n",
    "    print(\"\"\"\n",
    "    MENU\n",
    "    1. Soup and salad\n",
    "    2. Pasta with meat sauce\n",
    "    3. Chef's special\n",
    "    \"\"\")\n",
    "    masukan = input(\"Which number would you like to order? \")\n",
    "    return masukan\n",
    "\n",
    "menu(m)\n",
    "while(True):\n",
    "    if m == '1':\n",
    "        print(\"One Soup and salad coming right up\")\n",
    "    elif m == '2':\n",
    "        print(\"One Pasta with meat sauce coming right up\")\n",
    "    elif m == '3':\n",
    "        print(\"Chef's special\")\n",
    "    else:\n",
    "        print(\"Sorry, that is not a valid choice\")\n",
    "        break"
   ]
  },
  {
   "cell_type": "markdown",
   "id": "22c16e29",
   "metadata": {},
   "source": [
    "## Nomor 3"
   ]
  },
  {
   "cell_type": "code",
   "execution_count": 30,
   "id": "d839a722",
   "metadata": {},
   "outputs": [
    {
     "name": "stdout",
     "output_type": "stream",
     "text": [
      "Angka: 2\n",
      "False\n"
     ]
    }
   ],
   "source": [
    "def rand_divis_3():\n",
    "    m = int(input(\"Angka: \"))\n",
    "    \n",
    "    if m%3 == 0:\n",
    "        return True\n",
    "    else:\n",
    "        return False\n",
    "    \n",
    "print(rand_divis_3())"
   ]
  },
  {
   "cell_type": "markdown",
   "id": "fd429420",
   "metadata": {},
   "source": [
    "## Nomor 4"
   ]
  },
  {
   "cell_type": "code",
   "execution_count": 65,
   "id": "a132a3ea",
   "metadata": {},
   "outputs": [
    {
     "name": "stdout",
     "output_type": "stream",
     "text": [
      "Angka 1= 1\n",
      "Angka 2= 1\n",
      "1 Equal 1\n"
     ]
    }
   ],
   "source": [
    "def not_equal(a, b):\n",
    "    if(a < b or a > b):\n",
    "        print(a, \"It's not equal\", b)\n",
    "    else:\n",
    "        print(a, \"Equal\", b)\n",
    "        \n",
    "masukan1 = int(input(\"Angka 1= \"))\n",
    "masukan2 = int(input(\"Angka 2= \"))\n",
    "\n",
    "not_equal(masukan1, masukan2)"
   ]
  },
  {
   "cell_type": "markdown",
   "id": "168dce1a",
   "metadata": {},
   "source": [
    "## Nomor 5"
   ]
  },
  {
   "cell_type": "code",
   "execution_count": 57,
   "id": "20238241",
   "metadata": {},
   "outputs": [
    {
     "name": "stdout",
     "output_type": "stream",
     "text": [
      "Enter your name: dela\n",
      "Your name is dela\n"
     ]
    }
   ],
   "source": [
    "def ask_name():\n",
    "    nama = input(\"Enter your name: \")\n",
    "    return nama #harus ada pengembalian nilai untuk dipanggil diluar fungsi\n",
    "    \n",
    "print(\"Your name is\", ask_name())  #memanggil fungsi"
   ]
  },
  {
   "cell_type": "code",
   "execution_count": null,
   "id": "f7598557",
   "metadata": {},
   "outputs": [],
   "source": []
  }
 ],
 "metadata": {
  "kernelspec": {
   "display_name": "Python 3 (ipykernel)",
   "language": "python",
   "name": "python3"
  },
  "language_info": {
   "codemirror_mode": {
    "name": "ipython",
    "version": 3
   },
   "file_extension": ".py",
   "mimetype": "text/x-python",
   "name": "python",
   "nbconvert_exporter": "python",
   "pygments_lexer": "ipython3",
   "version": "3.9.7"
  }
 },
 "nbformat": 4,
 "nbformat_minor": 5
}
