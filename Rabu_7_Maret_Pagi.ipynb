{
 "cells": [
  {
   "cell_type": "markdown",
   "id": "8f69dc52",
   "metadata": {},
   "source": [
    "## Object Oriented Programming"
   ]
  },
  {
   "cell_type": "markdown",
   "id": "2f99877c",
   "metadata": {},
   "source": [
    "### Method"
   ]
  },
  {
   "cell_type": "code",
   "execution_count": 1,
   "id": "ac4f307b",
   "metadata": {},
   "outputs": [
    {
     "name": "stdout",
     "output_type": "stream",
     "text": [
      "Nama: Dela Rista, gender: Perempuan, alamat: Semarang\n"
     ]
    }
   ],
   "source": [
    "first_name = \"Dela\"\n",
    "last_name = \"Rista\"\n",
    "gender = \"Perempuan\"\n",
    "alamat = \"Semarang\"\n",
    "    \n",
    "def InfoEmployee(first_name, last_name, gender, alamat):\n",
    "    print(f\"Nama: {first_name} {last_name}, gender: {gender}, alamat: {alamat}\")\n",
    "\n",
    "InfoEmployee(first_name, last_name, gender, alamat)\n",
    "    \n",
    "    "
   ]
  },
  {
   "cell_type": "markdown",
   "id": "1c81f8b5",
   "metadata": {},
   "source": [
    "## Encapsulation"
   ]
  },
  {
   "cell_type": "code",
   "execution_count": 2,
   "id": "aff2b95f",
   "metadata": {},
   "outputs": [
    {
     "name": "stdout",
     "output_type": "stream",
     "text": [
      "Nama: Dela Rista, gender: Perempuan, alamat: Semarang, Total Pendapatan: 8500000\n"
     ]
    },
    {
     "data": {
      "text/plain": [
       "50000"
      ]
     },
     "execution_count": 2,
     "metadata": {},
     "output_type": "execute_result"
    }
   ],
   "source": [
    "class Employee(object):\n",
    "    insentif_lembur = 50000\n",
    "    def __init__(self, input_first_name, input_last_name, input_gender, input_alamat, input_pendapatan):\n",
    "        self.first_name = input_first_name\n",
    "        self.last_name = input_last_name\n",
    "        self.gender = input_gender\n",
    "        self.alamat = input_alamat\n",
    "        self.pendapatan = input_pendapatan\n",
    "        self.pendapatan_tambahan = 0\n",
    "    \n",
    "    def Lembur(self):\n",
    "        return self.pendapatan_tambahan + Employee.insentif_lembur\n",
    "    \n",
    "    def TotalPendapatan(self):\n",
    "        return self.pendapatan + self.pendapatan_tambahan\n",
    "     \n",
    "    def InfoEmployee(self):\n",
    "        print(f\"Nama: {self.first_name} {self.last_name}, gender: {self.gender}, alamat: {self.alamat}, Total Pendapatan: {self.pendapatan}\")\n",
    "        \n",
    "\n",
    "employee1 = Employee(\"Dela\", \"Rista\", \"Perempuan\", \"Semarang\", 8500000)\n",
    "\n",
    "employee1.InfoEmployee()\n",
    "employee1.Lembur()\n",
    "#employee1.TotalPendapatan()"
   ]
  },
  {
   "cell_type": "code",
   "execution_count": 3,
   "id": "39de21ae",
   "metadata": {},
   "outputs": [
    {
     "data": {
      "text/plain": [
       "'Dela'"
      ]
     },
     "execution_count": 3,
     "metadata": {},
     "output_type": "execute_result"
    }
   ],
   "source": [
    "employee1.first_name"
   ]
  },
  {
   "cell_type": "code",
   "execution_count": 4,
   "id": "dc8ce131",
   "metadata": {},
   "outputs": [
    {
     "name": "stdout",
     "output_type": "stream",
     "text": [
      "Nama: Dhita Ayu, gender: Perempuan, alamat: Purworejo, email: dhitaayu23@gmail.com\n"
     ]
    }
   ],
   "source": [
    "class Manager(object):\n",
    "    def __init__(self, input_first_name, input_last_name, input_gender, input_alamat, input_email):\n",
    "        self.first_name = input_first_name\n",
    "        self.last_name = input_last_name\n",
    "        self.gender = input_gender\n",
    "        self.alamat = input_alamat\n",
    "        self.email = input_email\n",
    "    \n",
    "    def InfoManager(self):\n",
    "        print(f\"Nama: {self.first_name} {self.last_name}, gender: {self.gender}, alamat: {self.alamat}, email: {self.email}\")\n",
    "\n",
    "manager1 = Manager(\"Dhita\", \"Ayu\", \"Perempuan\", \"Purworejo\", \"dhitaayu23@gmail.com\")\n",
    "manager1.InfoManager()"
   ]
  },
  {
   "cell_type": "code",
   "execution_count": 5,
   "id": "b4ce0b3d",
   "metadata": {},
   "outputs": [
    {
     "data": {
      "text/plain": [
       "'Dhita'"
      ]
     },
     "execution_count": 5,
     "metadata": {},
     "output_type": "execute_result"
    }
   ],
   "source": [
    "manager1.first_name"
   ]
  },
  {
   "cell_type": "code",
   "execution_count": 6,
   "id": "4cd3312a",
   "metadata": {},
   "outputs": [
    {
     "name": "stdout",
     "output_type": "stream",
     "text": [
      "Nama: Rizka Nur, gender: Perempuan, alamat: Demak\n",
      "Order Tanggal:  13 Maret 2022\n",
      "Status:  Sukses\n"
     ]
    }
   ],
   "source": [
    "class Customer(object):\n",
    "    def __init__(self, input_first_name, input_last_name, input_gender, input_alamat):\n",
    "        self.first_name = input_first_name\n",
    "        self.last_name = input_last_name\n",
    "        self.gender = input_gender\n",
    "        self.alamat = input_alamat\n",
    "        \n",
    "    def Order(self, input_tanggal, input_status):\n",
    "        self.tanggal = input_tanggal\n",
    "        self.status = input_status\n",
    "        print(\"Order Tanggal: \", input_tanggal)\n",
    "        print(\"Status: \", input_status)\n",
    "        \n",
    "    def InfoCustomer(self):\n",
    "        print(f\"Nama: {self.first_name} {self.last_name}, gender: {self.gender}, alamat: {self.alamat}\")\n",
    "        \n",
    "customer1 = Customer(\"Rizka\", \"Nur\", \"Perempuan\", \"Demak\")\n",
    "customer1.InfoCustomer()\n",
    "customer1.Order(\"13 Maret 2022\", \"Sukses\")"
   ]
  },
  {
   "cell_type": "markdown",
   "id": "0a571d20",
   "metadata": {},
   "source": [
    "## Inheritence"
   ]
  },
  {
   "cell_type": "code",
   "execution_count": 7,
   "id": "7cef79f0",
   "metadata": {},
   "outputs": [
    {
     "name": "stdout",
     "output_type": "stream",
     "text": [
      "Nama: Dela Rista, gender: Perempuan, alamat: Semarang\n"
     ]
    }
   ],
   "source": [
    "class Person(object):\n",
    "    def __init__(self, input_first_name, input_last_name, input_gender, input_alamat):\n",
    "        self.first_name = input_first_name\n",
    "        self.last_name = input_last_name\n",
    "        self.gender = input_gender\n",
    "        self.alamat = input_alamat\n",
    "    \n",
    "    def Info(self):\n",
    "        print(f\"Nama: {self.first_name} {self.last_name}, gender: {self.gender}, alamat: {self.alamat}\")\n",
    "\n",
    "person1 = Person(\"Dela\", \"Rista\", \"Perempuan\", \"Semarang\")\n",
    "person1.Info()"
   ]
  },
  {
   "cell_type": "code",
   "execution_count": 8,
   "id": "715eb6eb",
   "metadata": {},
   "outputs": [
    {
     "name": "stdout",
     "output_type": "stream",
     "text": [
      "Nama: Dhita Ayu, gender: Perempuan, alamat: Purworejo\n",
      "Nama: Dhita Ayu, gender: Perempuan, alamat: Purworejo, email: dhitaayu23@gmail.com\n"
     ]
    }
   ],
   "source": [
    "class Manager(Person):\n",
    "    def __init__(self, input_first_name, input_last_name, input_gender, input_alamat, input_email):\n",
    "        super().__init__(input_first_name, input_last_name, input_gender, input_alamat)\n",
    "        self.email = input_email\n",
    "    \n",
    "    def InfoManager(self):\n",
    "        super().Info()\n",
    "        print(f\"Nama: {self.first_name} {self.last_name}, gender: {self.gender}, alamat: {self.alamat}, email: {self.email}\")\n",
    "\n",
    "manager1 = Manager(\"Dhita\", \"Ayu\", \"Perempuan\", \"Purworejo\", \"dhitaayu23@gmail.com\")\n",
    "manager1.InfoManager()"
   ]
  },
  {
   "cell_type": "code",
   "execution_count": 9,
   "id": "7c0e8de5",
   "metadata": {},
   "outputs": [
    {
     "name": "stdout",
     "output_type": "stream",
     "text": [
      "Nama: Kevin Angger, gender: Lelaki, alamat: Purwodadi\n",
      "Total Pendapatan: 900000\n"
     ]
    },
    {
     "data": {
      "text/plain": [
       "50000"
      ]
     },
     "execution_count": 9,
     "metadata": {},
     "output_type": "execute_result"
    }
   ],
   "source": [
    "class Employee(Person):\n",
    "    insentif_lembur = 50000\n",
    "    def __init__(self, input_first_name, input_last_name, input_gender, input_alamat, input_pendapatan):\n",
    "        super().__init__(input_first_name, input_last_name, input_gender, input_alamat)\n",
    "        self.pendapatan = input_pendapatan\n",
    "        self.pendapatan_tambahan = 0\n",
    "    \n",
    "    def Lembur(self):\n",
    "        return self.pendapatan_tambahan + Employee.insentif_lembur\n",
    "    \n",
    "    def TotalPendapatan(self):\n",
    "        return self.pendapatan + self.pendapatan_tambahan\n",
    "     \n",
    "    def InfoEmployee(self):\n",
    "        super().Info()\n",
    "        print(f\"Total Pendapatan: {self.pendapatan}\")\n",
    "\n",
    "karyawan1 = Employee(\"Kevin\", \"Angger\", \"Lelaki\", \"Purwodadi\", 900000)\n",
    "    \n",
    "karyawan1.InfoEmployee()\n",
    "karyawan1.Lembur()\n",
    "#karyawan1.TotalPendapatan()"
   ]
  },
  {
   "cell_type": "code",
   "execution_count": 10,
   "id": "7bc531ce",
   "metadata": {},
   "outputs": [
    {
     "name": "stdout",
     "output_type": "stream",
     "text": [
      "ID Customer: 123\n",
      "Nama: Rizka Nur, gender: Perempuan, alamat: Demak\n",
      "Order Tanggal:  13 Maret 2022\n",
      "Status:  Sukses\n"
     ]
    }
   ],
   "source": [
    "class Customer(Person):\n",
    "    def __init__(self, input_first_name, input_last_name, input_gender, input_alamat, input_id_customer):\n",
    "        super().__init__(input_first_name, input_last_name, input_gender, input_alamat)\n",
    "        self.id_customer = input_id_customer\n",
    "        \n",
    "    def Order(self, input_tanggal, input_status):\n",
    "        self.tanggal = input_tanggal\n",
    "        self.status = input_status\n",
    "        print(\"Order Tanggal: \", input_tanggal)\n",
    "        print(\"Status: \", input_status)\n",
    "        \n",
    "    def InfoCustomer(self):\n",
    "        print(f\"ID Customer: {self.id_customer}\")\n",
    "        super().Info()\n",
    "        \n",
    "customer1 = Customer(\"Rizka\", \"Nur\", \"Perempuan\", \"Demak\", \"123\")\n",
    "customer1.InfoCustomer()\n",
    "customer1.Order(\"13 Maret 2022\", \"Sukses\")"
   ]
  },
  {
   "cell_type": "markdown",
   "id": "2a16461a",
   "metadata": {},
   "source": [
    "## Abstraction"
   ]
  },
  {
   "cell_type": "code",
   "execution_count": 11,
   "id": "0a86883d",
   "metadata": {},
   "outputs": [],
   "source": [
    "from abc import abstractmethod, ABC"
   ]
  },
  {
   "cell_type": "code",
   "execution_count": 12,
   "id": "d9b2ca3e",
   "metadata": {},
   "outputs": [
    {
     "name": "stdout",
     "output_type": "stream",
     "text": [
      "Selamat Pagi Manager, selamat rapat\n",
      "----------------------------------\n",
      "Semangat Pagi, selamat bekerjaa\n",
      "----------------------------------\n",
      "Selamat datang, selamat berbelanja\n"
     ]
    }
   ],
   "source": [
    "class Absclass(ABC):\n",
    "    @abstractmethod\n",
    "    def Salam(self):\n",
    "        pass\n",
    "\n",
    "class Manager(Absclass):\n",
    "    def Salam(self):\n",
    "        print(\"Selamat Pagi Manager, selamat rapat\")\n",
    "    \n",
    "class Employee(Absclass):\n",
    "    def Salam(self):\n",
    "        print(\"Semangat Pagi, selamat bekerjaa\")\n",
    "    \n",
    "class Customer(Absclass):\n",
    "    def Salam(self):\n",
    "        print(\"Selamat datang, selamat berbelanja\")\n",
    "\n",
    "#Manager\n",
    "manager_intan = Manager()\n",
    "manager_intan.Salam()\n",
    "      \n",
    "print(\"----------------------------------\")\n",
    "\n",
    "#Employee\n",
    "karyawan_anita = Employee()\n",
    "karyawan_anita.Salam()\n",
    "\n",
    "print(\"----------------------------------\")\n",
    "\n",
    "#Customer\n",
    "customer_danar = Customer()\n",
    "customer_danar.Salam()"
   ]
  },
  {
   "cell_type": "markdown",
   "id": "cbd2d028",
   "metadata": {},
   "source": [
    "## Polymorphism"
   ]
  },
  {
   "cell_type": "code",
   "execution_count": 19,
   "id": "97f083c4",
   "metadata": {},
   "outputs": [
    {
     "name": "stdout",
     "output_type": "stream",
     "text": [
      "Nama: Ayesa Micel, gender: Perempuan, alamat: Jogja\n"
     ]
    }
   ],
   "source": [
    "class Person(object):\n",
    "    def __init__(self, input_first_name, input_last_name, input_gender, input_alamat):\n",
    "        self.first_name = input_first_name\n",
    "        self.last_name = input_last_name\n",
    "        self.gender = input_gender\n",
    "        self.alamat = input_alamat\n",
    "    \n",
    "    def bonus(self):\n",
    "        print(\"Bonus Bulanan\")\n",
    "    \n",
    "    def Info(self):\n",
    "        print(f\"Nama: {self.first_name} {self.last_name}, gender: {self.gender}, alamat: {self.alamat}\")\n",
    "\n",
    "\n",
    "class Manager(Person):\n",
    "    def __init__(self, input_first_name, input_last_name, input_gender, input_alamat, input_email):\n",
    "        super().__init__(input_first_name, input_last_name, input_gender, input_alamat)\n",
    "        self.email = input_email\n",
    "    \n",
    "    def InfoManager(self):\n",
    "        super().Info()\n",
    "        print(f\"Nama: {self.first_name} {self.last_name}, gender: {self.gender}, alamat: {self.alamat}, email: {self.email}\")\n",
    "\n",
    "class Employee(Person):\n",
    "    insentif_lembur = 50000\n",
    "    def __init__(self, input_first_name, input_last_name, input_gender, input_alamat, input_pendapatan):\n",
    "        super().__init__(input_first_name, input_last_name, input_gender, input_alamat)\n",
    "        self.pendapatan = input_pendapatan\n",
    "        self.pendapatan_tambahan = 0\n",
    "    \n",
    "    def Lembur(self):\n",
    "        return self.pendapatan_tambahan + Employee.insentif_lembur\n",
    "    \n",
    "    def TotalPendapatan(self):\n",
    "        return self.pendapatan + self.pendapatan_tambahan\n",
    "     \n",
    "    def InfoEmployee(self):\n",
    "        super().Info()\n",
    "        print(f\"Total Pendapatan: {self.pendapatan}\")\n",
    "\n",
    "class Customer(Person):\n",
    "    def __init__(self, input_first_name, input_last_name, input_gender, input_alamat, input_id_customer):\n",
    "        super().__init__(input_first_name, input_last_name, input_gender, input_alamat)\n",
    "        self.id_customer = input_id_customer\n",
    "        \n",
    "    def Order(self, input_tanggal, input_status):\n",
    "        self.tanggal = input_tanggal\n",
    "        self.status = input_status\n",
    "        print(\"Order Tanggal: \", input_tanggal)\n",
    "        print(\"Status: \", input_status)\n",
    "        \n",
    "    def InfoCustomer(self):\n",
    "        print(f\"ID Customer: {self.id_customer}\")\n",
    "        super().Info()\n",
    "        \n",
    "cust1 = Customer(\"Ayesa\", \"Micel\", \"Perempuan\", \"Jogja\", \"ID123\")\n",
    "\n",
    "cust1.Info()"
   ]
  },
  {
   "cell_type": "code",
   "execution_count": 21,
   "id": "1ddc0c95",
   "metadata": {},
   "outputs": [
    {
     "name": "stdout",
     "output_type": "stream",
     "text": [
      "ID Customer: ID123\n",
      "Nama: Ayesa Micel, gender: Perempuan, alamat: Jogja\n"
     ]
    }
   ],
   "source": [
    "cust1.InfoCustomer()"
   ]
  },
  {
   "cell_type": "code",
   "execution_count": 22,
   "id": "fef676cf",
   "metadata": {},
   "outputs": [
    {
     "name": "stdout",
     "output_type": "stream",
     "text": [
      "Bonus Bulanan\n"
     ]
    }
   ],
   "source": [
    "cust1.bonus()"
   ]
  },
  {
   "cell_type": "markdown",
   "id": "728be8d4",
   "metadata": {},
   "source": [
    "## Custom Modules"
   ]
  },
  {
   "cell_type": "code",
   "execution_count": 13,
   "id": "b8608680",
   "metadata": {},
   "outputs": [],
   "source": [
    "import fungsi as fs"
   ]
  },
  {
   "cell_type": "code",
   "execution_count": 16,
   "id": "380fc48b",
   "metadata": {},
   "outputs": [],
   "source": [
    "karyawan_dhita = fs.Employee(\"Dhita\", \"Ayu\", \"Perempuan\", \"Purwodadi\", \"500000\")"
   ]
  },
  {
   "cell_type": "code",
   "execution_count": 17,
   "id": "588a3bc3",
   "metadata": {},
   "outputs": [
    {
     "name": "stdout",
     "output_type": "stream",
     "text": [
      "Nama: Dhita Ayu, gender: Perempuan, alamat: Purwodadi\n",
      "Total Pendapatan: 500000\n"
     ]
    }
   ],
   "source": [
    "karyawan_dhita.InfoEmployee()"
   ]
  },
  {
   "cell_type": "code",
   "execution_count": null,
   "id": "15cfcecb",
   "metadata": {},
   "outputs": [],
   "source": []
  }
 ],
 "metadata": {
  "kernelspec": {
   "display_name": "Python 3 (ipykernel)",
   "language": "python",
   "name": "python3"
  },
  "language_info": {
   "codemirror_mode": {
    "name": "ipython",
    "version": 3
   },
   "file_extension": ".py",
   "mimetype": "text/x-python",
   "name": "python",
   "nbconvert_exporter": "python",
   "pygments_lexer": "ipython3",
   "version": "3.9.7"
  }
 },
 "nbformat": 4,
 "nbformat_minor": 5
}
