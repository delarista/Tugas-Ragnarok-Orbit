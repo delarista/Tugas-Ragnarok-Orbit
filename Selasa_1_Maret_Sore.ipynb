{
 "cells": [
  {
   "cell_type": "markdown",
   "id": "0edca352",
   "metadata": {},
   "source": [
    "#### Nama = Dela Rista Damayanti"
   ]
  },
  {
   "cell_type": "markdown",
   "id": "1bbe0522",
   "metadata": {},
   "source": [
    "### Identifiying Data Types"
   ]
  },
  {
   "cell_type": "code",
   "execution_count": 2,
   "id": "e9b38992",
   "metadata": {},
   "outputs": [
    {
     "name": "stdout",
     "output_type": "stream",
     "text": [
      "<class 'int'>\n",
      "<class 'float'>\n"
     ]
    }
   ],
   "source": [
    "a = 42\n",
    "b = 32.30\n",
    "print(type(a))\n",
    "print(type(b))"
   ]
  },
  {
   "cell_type": "code",
   "execution_count": 3,
   "id": "9a302c22",
   "metadata": {},
   "outputs": [
    {
     "name": "stdout",
     "output_type": "stream",
     "text": [
      "[1, 2, 3, 4, 5, 6]\n"
     ]
    }
   ],
   "source": [
    "#Assign a list to an variable named my_list\n",
    "my_list = [1,2,3,4,5,6]\n",
    "print(my_list)"
   ]
  },
  {
   "cell_type": "code",
   "execution_count": 4,
   "id": "cce1f2cb",
   "metadata": {},
   "outputs": [
    {
     "name": "stdout",
     "output_type": "stream",
     "text": [
      "['A String', 233, 100.23, '0']\n"
     ]
    }
   ],
   "source": [
    "my_list2 = ['A String', 233, 100.23, '0']\n",
    "print(my_list2)"
   ]
  },
  {
   "cell_type": "code",
   "execution_count": 5,
   "id": "001b8f56",
   "metadata": {},
   "outputs": [
    {
     "data": {
      "text/plain": [
       "6"
      ]
     },
     "execution_count": 5,
     "metadata": {},
     "output_type": "execute_result"
    }
   ],
   "source": [
    "len(my_list)"
   ]
  },
  {
   "cell_type": "code",
   "execution_count": 6,
   "id": "51b424ff",
   "metadata": {},
   "outputs": [
    {
     "data": {
      "text/plain": [
       "4"
      ]
     },
     "execution_count": 6,
     "metadata": {},
     "output_type": "execute_result"
    }
   ],
   "source": [
    "len(my_list2)"
   ]
  },
  {
   "cell_type": "markdown",
   "id": "bff406cf",
   "metadata": {},
   "source": [
    "#### Adding New Element to a list"
   ]
  },
  {
   "cell_type": "markdown",
   "id": "bc98a113",
   "metadata": {},
   "source": [
    "###### Append"
   ]
  },
  {
   "cell_type": "code",
   "execution_count": 7,
   "id": "6644e76a",
   "metadata": {},
   "outputs": [
    {
     "name": "stdout",
     "output_type": "stream",
     "text": [
      "[1, 2.3, ['a', 'b'], 'New York', 3.1]\n"
     ]
    }
   ],
   "source": [
    "my_list = ['one', 'two', 'three', 4, 5]\n",
    "\n",
    "#append a value to the end of the list\n",
    "l = [1, 2.3, ['a', 'b'], 'New York']\n",
    "l.append(3.1)\n",
    "print(l)"
   ]
  },
  {
   "cell_type": "code",
   "execution_count": 8,
   "id": "b12cc792",
   "metadata": {},
   "outputs": [
    {
     "name": "stdout",
     "output_type": "stream",
     "text": [
      "[1, 2, 3, 4, 5, 6]\n"
     ]
    }
   ],
   "source": [
    "#extend a list with another list\n",
    "l = [1, 2, 3]\n",
    "l.extend([4, 5, 6])\n",
    "print(l)"
   ]
  },
  {
   "cell_type": "markdown",
   "id": "436048e1",
   "metadata": {},
   "source": [
    "##### Insert"
   ]
  },
  {
   "cell_type": "code",
   "execution_count": 9,
   "id": "0235292b",
   "metadata": {},
   "outputs": [
    {
     "data": {
      "text/plain": [
       "['one', 'two', 'three', 'four', 4, 5]"
      ]
     },
     "execution_count": 9,
     "metadata": {},
     "output_type": "execute_result"
    }
   ],
   "source": [
    "my_list.insert(3, 'four')\n",
    "my_list"
   ]
  },
  {
   "cell_type": "markdown",
   "id": "51e348dc",
   "metadata": {},
   "source": [
    "##### Slicing"
   ]
  },
  {
   "cell_type": "code",
   "execution_count": 10,
   "id": "1888b772",
   "metadata": {},
   "outputs": [
    {
     "name": "stdout",
     "output_type": "stream",
     "text": [
      "[0, 1, 2, 3, 4, 5, 6, 7, 8, 9]\n",
      "\n",
      "elements from index 4 to 7: [4, 5, 6]\n",
      "alternate elements, starting at index 0: [0, 2, 4, 6, 8]\n",
      "\n",
      "every third elements, starting at index 1: [1, 4, 7]\n"
     ]
    }
   ],
   "source": [
    "lst = list(range(10))\n",
    "print(lst)\n",
    "print()\n",
    "print(\"elements from index 4 to 7:\", lst[4:7])\n",
    "print(\"alternate elements, starting at index 0:\", lst[0::2])\n",
    "print()\n",
    "print(\"every third elements, starting at index 1:\", lst[1::3])"
   ]
  },
  {
   "cell_type": "markdown",
   "id": "6458d425",
   "metadata": {},
   "source": [
    "### Dictionaries"
   ]
  },
  {
   "cell_type": "code",
   "execution_count": 11,
   "id": "2c585b7e",
   "metadata": {},
   "outputs": [
    {
     "data": {
      "text/plain": [
       "'value2'"
      ]
     },
     "execution_count": 11,
     "metadata": {},
     "output_type": "execute_result"
    }
   ],
   "source": [
    "# make a dictionary with {} and : to signify a key and a value\n",
    "my_dict = {'key1':'value1', 'key2':'value2'}\n",
    "\n",
    "#call values by their key\n",
    "my_dict['key2']"
   ]
  },
  {
   "cell_type": "code",
   "execution_count": 12,
   "id": "511699ee",
   "metadata": {},
   "outputs": [
    {
     "data": {
      "text/plain": [
       "{'key1': 1234, 'key2': 'value2'}"
      ]
     },
     "execution_count": 12,
     "metadata": {},
     "output_type": "execute_result"
    }
   ],
   "source": [
    "my_dict['key1'] = 1234\n",
    "my_dict"
   ]
  },
  {
   "cell_type": "code",
   "execution_count": 13,
   "id": "18415f20",
   "metadata": {},
   "outputs": [
    {
     "data": {
      "text/plain": [
       "1111"
      ]
     },
     "execution_count": 13,
     "metadata": {},
     "output_type": "execute_result"
    }
   ],
   "source": [
    "#substract 123 from the value\n",
    "my_dict['key1'] = my_dict['key1'] - 123\n",
    "\n",
    "#check\n",
    "my_dict['key1']"
   ]
  },
  {
   "cell_type": "code",
   "execution_count": 14,
   "id": "c47569a7",
   "metadata": {},
   "outputs": [
    {
     "data": {
      "text/plain": [
       "-123"
      ]
     },
     "execution_count": 14,
     "metadata": {},
     "output_type": "execute_result"
    }
   ],
   "source": [
    "# set the object equal to itself minus 123\n",
    "my_dict['key1'] -= 1234\n",
    "my_dict['key1']"
   ]
  },
  {
   "cell_type": "code",
   "execution_count": 15,
   "id": "04502814",
   "metadata": {},
   "outputs": [],
   "source": [
    "# create a new dictionary\n",
    "d = {}\n",
    "\n",
    "# create a new key througj assignment\n",
    "d['animal'] = \"Bear\""
   ]
  },
  {
   "cell_type": "code",
   "execution_count": 16,
   "id": "fc76ee83",
   "metadata": {},
   "outputs": [
    {
     "data": {
      "text/plain": [
       "'Bear'"
      ]
     },
     "execution_count": 16,
     "metadata": {},
     "output_type": "execute_result"
    }
   ],
   "source": [
    "d['animal']"
   ]
  },
  {
   "cell_type": "markdown",
   "id": "e41b6db0",
   "metadata": {},
   "source": [
    "### Set and Booleans"
   ]
  },
  {
   "cell_type": "markdown",
   "id": "bfcd7d07",
   "metadata": {},
   "source": [
    "#### Set"
   ]
  },
  {
   "cell_type": "code",
   "execution_count": 17,
   "id": "975dc693",
   "metadata": {},
   "outputs": [
    {
     "name": "stdout",
     "output_type": "stream",
     "text": [
      "{1}\n"
     ]
    }
   ],
   "source": [
    "x = set()\n",
    "\n",
    "# we add to sets with the add() method\n",
    "x.add(1)\n",
    "\n",
    "#show\n",
    "print(x)"
   ]
  },
  {
   "cell_type": "code",
   "execution_count": 18,
   "id": "b411e3b7",
   "metadata": {},
   "outputs": [
    {
     "data": {
      "text/plain": [
       "{1, 2}"
      ]
     },
     "execution_count": 18,
     "metadata": {},
     "output_type": "execute_result"
    }
   ],
   "source": [
    "x.add(2)\n",
    "x"
   ]
  },
  {
   "cell_type": "code",
   "execution_count": 19,
   "id": "2477abfb",
   "metadata": {},
   "outputs": [
    {
     "data": {
      "text/plain": [
       "{1, 2}"
      ]
     },
     "execution_count": 19,
     "metadata": {},
     "output_type": "execute_result"
    }
   ],
   "source": [
    "x.add(1)\n",
    "x"
   ]
  },
  {
   "cell_type": "code",
   "execution_count": 20,
   "id": "3f2822ca",
   "metadata": {},
   "outputs": [
    {
     "data": {
      "text/plain": [
       "{1, 2, 3, 4, 5}"
      ]
     },
     "execution_count": 20,
     "metadata": {},
     "output_type": "execute_result"
    }
   ],
   "source": [
    "#create a list with repeats\n",
    "l = [1, 1, 2, 3, 3, 4, 4, 5, 5, 5, 1, 2]\n",
    "set(l)"
   ]
  },
  {
   "cell_type": "code",
   "execution_count": null,
   "id": "640b535b",
   "metadata": {},
   "outputs": [],
   "source": []
  }
 ],
 "metadata": {
  "kernelspec": {
   "display_name": "Python 3 (ipykernel)",
   "language": "python",
   "name": "python3"
  },
  "language_info": {
   "codemirror_mode": {
    "name": "ipython",
    "version": 3
   },
   "file_extension": ".py",
   "mimetype": "text/x-python",
   "name": "python",
   "nbconvert_exporter": "python",
   "pygments_lexer": "ipython3",
   "version": "3.9.7"
  }
 },
 "nbformat": 4,
 "nbformat_minor": 5
}
