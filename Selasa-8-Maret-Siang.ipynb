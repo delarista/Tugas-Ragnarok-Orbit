{
 "cells": [
  {
   "cell_type": "markdown",
   "id": "a7532fc5",
   "metadata": {},
   "source": [
    "## Latihan-4 (Operasi Matriks)"
   ]
  },
  {
   "cell_type": "code",
   "execution_count": 1,
   "id": "27862a36",
   "metadata": {},
   "outputs": [],
   "source": [
    "import numpy as np"
   ]
  },
  {
   "cell_type": "code",
   "execution_count": 2,
   "id": "34c204c3",
   "metadata": {},
   "outputs": [],
   "source": [
    "A = np.array([[1,2],[7,8]])\n",
    "B = np.array([[3,5],[1,6]])"
   ]
  },
  {
   "cell_type": "code",
   "execution_count": 13,
   "id": "27f89189",
   "metadata": {},
   "outputs": [
    {
     "name": "stdout",
     "output_type": "stream",
     "text": [
      "hasil perhitungan 2*A = \n",
      " [[ 2  4]\n",
      " [14 16]]\n"
     ]
    }
   ],
   "source": [
    "print(\"hasil perhitungan 2*A = \\n\", 2*A)"
   ]
  },
  {
   "cell_type": "code",
   "execution_count": 14,
   "id": "38e8efc0",
   "metadata": {},
   "outputs": [
    {
     "name": "stdout",
     "output_type": "stream",
     "text": [
      "hasil perhitungan 2+A = \n",
      " [[ 3  4]\n",
      " [ 9 10]]\n"
     ]
    }
   ],
   "source": [
    "print(\"hasil perhitungan 2+A = \\n\", 2+A)"
   ]
  },
  {
   "cell_type": "code",
   "execution_count": 15,
   "id": "1a829fdd",
   "metadata": {},
   "outputs": [
    {
     "name": "stdout",
     "output_type": "stream",
     "text": [
      "hasil perhitungan A+B = \n",
      " [[ 4  7]\n",
      " [ 8 14]]\n"
     ]
    }
   ],
   "source": [
    "print(\"hasil perhitungan A+B = \\n\", A+B)"
   ]
  },
  {
   "cell_type": "code",
   "execution_count": 16,
   "id": "3691bfe2",
   "metadata": {},
   "outputs": [
    {
     "name": "stdout",
     "output_type": "stream",
     "text": [
      "hasil perhitungan A-B = \n",
      " [[-2 -3]\n",
      " [ 6  2]]\n"
     ]
    }
   ],
   "source": [
    "print(\"hasil perhitungan A-B = \\n\", A-B)"
   ]
  },
  {
   "cell_type": "code",
   "execution_count": 7,
   "id": "99e555de",
   "metadata": {},
   "outputs": [
    {
     "name": "stdout",
     "output_type": "stream",
     "text": [
      "determinan matriks A =  -6.0\n"
     ]
    }
   ],
   "source": [
    "print('determinan matriks A = ', np.linalg.det(A))"
   ]
  },
  {
   "cell_type": "code",
   "execution_count": 36,
   "id": "998c83fd",
   "metadata": {},
   "outputs": [
    {
     "name": "stdout",
     "output_type": "stream",
     "text": [
      "invers matriks A = \n",
      " [[ 0.46153846 -0.38461538]\n",
      " [-0.07692308  0.23076923]]\n"
     ]
    }
   ],
   "source": [
    "D = np.linalg.inv(B)\n",
    "print('invers matriks A = \\n', D)"
   ]
  },
  {
   "cell_type": "code",
   "execution_count": 37,
   "id": "892e13ae",
   "metadata": {},
   "outputs": [
    {
     "name": "stdout",
     "output_type": "stream",
     "text": [
      "Transpose matriks D = \n",
      " [[ 0.46153846 -0.07692308]\n",
      " [-0.38461538  0.23076923]]\n"
     ]
    }
   ],
   "source": [
    "trans = D.transpose()\n",
    "print('Transpose matriks D = \\n', trans)"
   ]
  },
  {
   "cell_type": "code",
   "execution_count": 38,
   "id": "bf51b6e3",
   "metadata": {},
   "outputs": [],
   "source": [
    "eigen_nilai_A, eigen_vektor_A = np.linalg.eig(A)"
   ]
  },
  {
   "cell_type": "code",
   "execution_count": 48,
   "id": "d36b7a74",
   "metadata": {},
   "outputs": [
    {
     "name": "stdout",
     "output_type": "stream",
     "text": [
      "Nilai Eigen Matriks A = \n",
      " [-0.62347538  9.62347538]\n"
     ]
    }
   ],
   "source": [
    "print('Nilai Eigen Matriks A = \\n', eigen_nilai_A)"
   ]
  },
  {
   "cell_type": "code",
   "execution_count": 40,
   "id": "db26d1b3",
   "metadata": {},
   "outputs": [
    {
     "name": "stdout",
     "output_type": "stream",
     "text": [
      "Eigen Vektor Matriks A = \n",
      " [[-0.77640358 -0.22592838]\n",
      " [ 0.63023605 -0.97414391]]\n"
     ]
    }
   ],
   "source": [
    "print('Eigen Vektor Matriks A = \\n', eigen_vektor_A)"
   ]
  },
  {
   "cell_type": "code",
   "execution_count": 41,
   "id": "a3bb36e3",
   "metadata": {},
   "outputs": [],
   "source": [
    "eigen_nilai_B, eigen_vektor_B = np.linalg.eig(B)"
   ]
  },
  {
   "cell_type": "code",
   "execution_count": 49,
   "id": "e155eedd",
   "metadata": {},
   "outputs": [
    {
     "name": "stdout",
     "output_type": "stream",
     "text": [
      "Nilai Eigen Matriks B = \n",
      " [1.8074176 7.1925824]\n"
     ]
    }
   ],
   "source": [
    "print('Nilai Eigen Matriks B = \\n', eigen_nilai_B)"
   ]
  },
  {
   "cell_type": "code",
   "execution_count": 43,
   "id": "50850c70",
   "metadata": {},
   "outputs": [
    {
     "name": "stdout",
     "output_type": "stream",
     "text": [
      "Eigen Vektor Matriks B = \n",
      " [[-0.97271381 -0.76626443]\n",
      " [ 0.23200828 -0.64252535]]\n"
     ]
    }
   ],
   "source": [
    "print('Eigen Vektor Matriks B = \\n', eigen_vektor_B)"
   ]
  },
  {
   "cell_type": "code",
   "execution_count": 44,
   "id": "a11216b1",
   "metadata": {},
   "outputs": [
    {
     "name": "stdout",
     "output_type": "stream",
     "text": [
      "Matriks B = \n",
      " [[3 5]\n",
      " [1 6]]\n"
     ]
    }
   ],
   "source": [
    "print(\"Matriks B = \\n\", B)"
   ]
  },
  {
   "cell_type": "code",
   "execution_count": 45,
   "id": "8faff2c9",
   "metadata": {},
   "outputs": [
    {
     "name": "stdout",
     "output_type": "stream",
     "text": [
      "Matriks D = \n",
      " [[ 0.46153846 -0.38461538]\n",
      " [-0.07692308  0.23076923]]\n"
     ]
    }
   ],
   "source": [
    "print(\"Matriks D = \\n\", D)"
   ]
  },
  {
   "cell_type": "code",
   "execution_count": 46,
   "id": "c5c57f15",
   "metadata": {},
   "outputs": [
    {
     "name": "stdout",
     "output_type": "stream",
     "text": [
      "Hasil perhitungan antar entry B*D = \n",
      " [[ 1.38461538 -1.92307692]\n",
      " [-0.07692308  1.38461538]]\n"
     ]
    }
   ],
   "source": [
    "#perkalian antar entry B*D\n",
    "print(\"Hasil perhitungan antar entry B*D = \\n\", B*D)"
   ]
  },
  {
   "cell_type": "code",
   "execution_count": 47,
   "id": "dece978e",
   "metadata": {},
   "outputs": [
    {
     "name": "stdout",
     "output_type": "stream",
     "text": [
      "Hasil perhitungan perkalian matriks B*D = \n",
      " [[ 1.00000000e+00  0.00000000e+00]\n",
      " [-5.55111512e-17  1.00000000e+00]]\n"
     ]
    }
   ],
   "source": [
    "#perkalian matriks B dan D\n",
    "print(\"Hasil perhitungan perkalian matriks B*D = \\n\", np.matmul(B,D))"
   ]
  },
  {
   "cell_type": "code",
   "execution_count": null,
   "id": "84492562",
   "metadata": {},
   "outputs": [],
   "source": []
  }
 ],
 "metadata": {
  "kernelspec": {
   "display_name": "Python 3 (ipykernel)",
   "language": "python",
   "name": "python3"
  },
  "language_info": {
   "codemirror_mode": {
    "name": "ipython",
    "version": 3
   },
   "file_extension": ".py",
   "mimetype": "text/x-python",
   "name": "python",
   "nbconvert_exporter": "python",
   "pygments_lexer": "ipython3",
   "version": "3.9.7"
  }
 },
 "nbformat": 4,
 "nbformat_minor": 5
}
