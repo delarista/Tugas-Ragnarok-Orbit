{
 "cells": [
  {
   "cell_type": "markdown",
   "id": "d5a1d2b0",
   "metadata": {},
   "source": [
    "#### Nama = Dela Rista Damayanti"
   ]
  },
  {
   "cell_type": "markdown",
   "id": "3333e3ac",
   "metadata": {},
   "source": [
    "# SESI PAGI"
   ]
  },
  {
   "cell_type": "markdown",
   "id": "543abe2a",
   "metadata": {},
   "source": [
    "### Started Python"
   ]
  },
  {
   "cell_type": "code",
   "execution_count": 1,
   "id": "eb3ebf6b",
   "metadata": {},
   "outputs": [
    {
     "name": "stdout",
     "output_type": "stream",
     "text": [
      "Hello World\n"
     ]
    }
   ],
   "source": [
    "print(\"Hello World\")\n",
    "#as usual with any language wee start with the print function\n",
    "#print digunakan untuk mencetak dalam layar"
   ]
  },
  {
   "cell_type": "markdown",
   "id": "801798b4",
   "metadata": {},
   "source": [
    "### String"
   ]
  },
  {
   "cell_type": "code",
   "execution_count": 3,
   "id": "498149d5",
   "metadata": {},
   "outputs": [
    {
     "name": "stdout",
     "output_type": "stream",
     "text": [
      "hello\n",
      "\n",
      "Ini juga termasuk dalam string\n"
     ]
    }
   ],
   "source": [
    "#string word\n",
    "print('hello')\n",
    "\n",
    "print() \n",
    "#used to have a line space between two sentences\n",
    "#digunakan untuk memberikan spasi antar baris\n",
    "\n",
    "print('Ini juga termasuk dalam string')"
   ]
  },
  {
   "cell_type": "markdown",
   "id": "e95a649c",
   "metadata": {},
   "source": [
    "### Variable"
   ]
  },
  {
   "cell_type": "code",
   "execution_count": 6,
   "id": "724e9fc5",
   "metadata": {},
   "outputs": [
    {
     "name": "stdout",
     "output_type": "stream",
     "text": [
      "Amsterdam\n",
      "<class 'str'>\n",
      "9\n"
     ]
    }
   ],
   "source": [
    "s = \"Amsterdam\"\n",
    "print(s)\n",
    "print(type(s))\n",
    "print(len(s))"
   ]
  },
  {
   "cell_type": "markdown",
   "id": "68e1b4e4",
   "metadata": {},
   "source": [
    "### String Indexing"
   ]
  },
  {
   "cell_type": "code",
   "execution_count": 9,
   "id": "a494d0a4",
   "metadata": {},
   "outputs": [
    {
     "name": "stdout",
     "output_type": "stream",
     "text": [
      "Ohayo Gozaimasu\n",
      "\n",
      "O\n",
      "\n",
      "G\n"
     ]
    }
   ],
   "source": [
    "#Assign  s as a string\n",
    "s = 'Ohayo Gozaimasu'\n",
    "\n",
    "#print the object\n",
    "print(s)\n",
    "print()\n",
    "print(s[0])\n",
    "print()\n",
    "print(s[6])"
   ]
  },
  {
   "cell_type": "markdown",
   "id": "d33c03e0",
   "metadata": {},
   "source": [
    "### String Concatenation and Repetition"
   ]
  },
  {
   "cell_type": "code",
   "execution_count": 12,
   "id": "b6881d58",
   "metadata": {},
   "outputs": [
    {
     "name": "stdout",
     "output_type": "stream",
     "text": [
      "Dela Rista, Selamat Pagi!!\n"
     ]
    }
   ],
   "source": [
    "#concatenation (addition)\n",
    "s1='Dela'\n",
    "s2=\"Rista\"\n",
    "print(s1 + \" \" + s2 + \", Selamat Pagi!!\")"
   ]
  },
  {
   "cell_type": "code",
   "execution_count": 13,
   "id": "6485110c",
   "metadata": {},
   "outputs": [
    {
     "name": "stdout",
     "output_type": "stream",
     "text": [
      "Hello_Hello_Hello_Hello_Hello_\n",
      "++++++++++\n"
     ]
    }
   ],
   "source": [
    "#repetition (multiplication)\n",
    "print(\"Hello_\" * 5)\n",
    "print(\"+\" * 10)"
   ]
  },
  {
   "cell_type": "markdown",
   "id": "43bfb814",
   "metadata": {},
   "source": [
    "### String Slicing & Indexing"
   ]
  },
  {
   "cell_type": "code",
   "execution_count": 17,
   "id": "cd5379eb",
   "metadata": {},
   "outputs": [
    {
     "name": "stdout",
     "output_type": "stream",
     "text": [
      "a\n",
      "e Wor\n",
      "Worl\n",
      "True\n",
      "False\n"
     ]
    }
   ],
   "source": [
    "s = \"Namaste World\"\n",
    "\n",
    "#print sub strings\n",
    "print(s[1])\n",
    "print(s[6:11])\n",
    "print(s[-5:-1])\n",
    "\n",
    "#test substring membership \n",
    "print(\"Wor\" in s)\n",
    "print(\"oke\" in s)"
   ]
  },
  {
   "cell_type": "code",
   "execution_count": 15,
   "id": "097eecc1",
   "metadata": {},
   "outputs": [
    {
     "name": "stdout",
     "output_type": "stream",
     "text": [
      "eWr\n"
     ]
    }
   ],
   "source": [
    "#slicing syntax_2 : variabel_name[start : end : step] -> slice\n",
    "print(s[6:11:2]) #ambil dua karakter"
   ]
  },
  {
   "cell_type": "markdown",
   "id": "1eb3bddd",
   "metadata": {},
   "source": [
    "### Basic Built-in String methods"
   ]
  },
  {
   "cell_type": "code",
   "execution_count": 18,
   "id": "828dc8a2",
   "metadata": {},
   "outputs": [
    {
     "name": "stdout",
     "output_type": "stream",
     "text": [
      "HELLO WORLD\n",
      "hello world\n"
     ]
    }
   ],
   "source": [
    "s = \"Hello World\"\n",
    "\n",
    "print(s.upper())\n",
    "print(s.lower())"
   ]
  },
  {
   "cell_type": "code",
   "execution_count": 19,
   "id": "371d2e4b",
   "metadata": {},
   "outputs": [
    {
     "name": "stdout",
     "output_type": "stream",
     "text": [
      "HELLO world\n"
     ]
    }
   ],
   "source": [
    "print(s[:5].upper() + s[5:].lower())"
   ]
  },
  {
   "cell_type": "markdown",
   "id": "34bea8c1",
   "metadata": {},
   "source": [
    "### Print Formatting"
   ]
  },
  {
   "cell_type": "code",
   "execution_count": 30,
   "id": "328d507c",
   "metadata": {},
   "outputs": [],
   "source": [
    "name = \"Dela Rista\"\n",
    "age = 21\n",
    "married = False"
   ]
  },
  {
   "cell_type": "code",
   "execution_count": 26,
   "id": "c29740fb",
   "metadata": {},
   "outputs": [
    {
     "name": "stdout",
     "output_type": "stream",
     "text": [
      "My name is  Dela Rista  My age is  21  I am Married  False\n"
     ]
    }
   ],
   "source": [
    "#cara 1\n",
    "print(\"My name is \", name, \" My age is \", age, \" I am Married \", married)"
   ]
  },
  {
   "cell_type": "code",
   "execution_count": 27,
   "id": "d9ead27f",
   "metadata": {},
   "outputs": [
    {
     "name": "stdout",
     "output_type": "stream",
     "text": [
      "My name is Dela Rista, my age is 21, False I am Married\n"
     ]
    }
   ],
   "source": [
    "#cara 2\n",
    "print(\"My name is %s, my age is %s, %s I am Married\" % (name, age, married))"
   ]
  },
  {
   "cell_type": "code",
   "execution_count": 28,
   "id": "72b18bea",
   "metadata": {},
   "outputs": [
    {
     "name": "stdout",
     "output_type": "stream",
     "text": [
      "My name is Dela Rista, my age is 21, and it is False I am Married\n"
     ]
    }
   ],
   "source": [
    "#cara 3\n",
    "print(\"My name is {}, my age is {}, and it is {} I am Married\". format(name, age, married))"
   ]
  },
  {
   "cell_type": "markdown",
   "id": "567967dc",
   "metadata": {},
   "source": [
    "### Numbers"
   ]
  },
  {
   "cell_type": "markdown",
   "id": "453c821b",
   "metadata": {},
   "source": [
    "#### Basic Arithmetic"
   ]
  },
  {
   "cell_type": "code",
   "execution_count": 31,
   "id": "ff964560",
   "metadata": {},
   "outputs": [
    {
     "name": "stdout",
     "output_type": "stream",
     "text": [
      "3\n"
     ]
    }
   ],
   "source": [
    "#Addition\n",
    "print(2+1)"
   ]
  },
  {
   "cell_type": "code",
   "execution_count": 32,
   "id": "b4a68d1b",
   "metadata": {},
   "outputs": [
    {
     "name": "stdout",
     "output_type": "stream",
     "text": [
      "2\n"
     ]
    }
   ],
   "source": [
    "#Subtraction\n",
    "print(4-2)"
   ]
  },
  {
   "cell_type": "code",
   "execution_count": 34,
   "id": "40fef04a",
   "metadata": {},
   "outputs": [
    {
     "name": "stdout",
     "output_type": "stream",
     "text": [
      "9\n"
     ]
    }
   ],
   "source": [
    "#Multiplication\n",
    "print(3*3)"
   ]
  },
  {
   "cell_type": "code",
   "execution_count": 39,
   "id": "f5d93f30",
   "metadata": {},
   "outputs": [
    {
     "name": "stdout",
     "output_type": "stream",
     "text": [
      "1.5\n"
     ]
    }
   ],
   "source": [
    "#Division\n",
    "print(3/2)"
   ]
  },
  {
   "cell_type": "markdown",
   "id": "cd2fe2c5",
   "metadata": {},
   "source": [
    "#### Arithmetic continued"
   ]
  },
  {
   "cell_type": "code",
   "execution_count": 41,
   "id": "fb4538cd",
   "metadata": {},
   "outputs": [
    {
     "data": {
      "text/plain": [
       "16"
      ]
     },
     "execution_count": 41,
     "metadata": {},
     "output_type": "execute_result"
    }
   ],
   "source": [
    "#Power\n",
    "2**4"
   ]
  },
  {
   "cell_type": "code",
   "execution_count": 43,
   "id": "c20fd8eb",
   "metadata": {},
   "outputs": [
    {
     "data": {
      "text/plain": [
       "105"
      ]
     },
     "execution_count": 43,
     "metadata": {},
     "output_type": "execute_result"
    }
   ],
   "source": [
    "#Order of operatios followed in python\n",
    "2 + 10 * 10 + 3"
   ]
  },
  {
   "cell_type": "code",
   "execution_count": 44,
   "id": "8d7da595",
   "metadata": {},
   "outputs": [
    {
     "data": {
      "text/plain": [
       "156"
      ]
     },
     "execution_count": 44,
     "metadata": {},
     "output_type": "execute_result"
    }
   ],
   "source": [
    "#Can use parenthesis to specify orders\n",
    "(2+10) * (10+3)"
   ]
  },
  {
   "cell_type": "markdown",
   "id": "449acf72",
   "metadata": {},
   "source": [
    "#### Variable Assignments"
   ]
  },
  {
   "cell_type": "code",
   "execution_count": 47,
   "id": "324a1d5f",
   "metadata": {},
   "outputs": [
    {
     "data": {
      "text/plain": [
       "14"
      ]
     },
     "execution_count": 47,
     "metadata": {},
     "output_type": "execute_result"
    }
   ],
   "source": [
    "a = 7\n",
    "a+a"
   ]
  },
  {
   "cell_type": "code",
   "execution_count": 48,
   "id": "06c5f24f",
   "metadata": {},
   "outputs": [
    {
     "data": {
      "text/plain": [
       "10"
      ]
     },
     "execution_count": 48,
     "metadata": {},
     "output_type": "execute_result"
    }
   ],
   "source": [
    "a = 10\n",
    "a"
   ]
  },
  {
   "cell_type": "markdown",
   "id": "1b100ad2",
   "metadata": {},
   "source": [
    "# SESI SIANG"
   ]
  },
  {
   "cell_type": "markdown",
   "id": "585fdbed",
   "metadata": {},
   "source": [
    "### Identifiying Data Types"
   ]
  },
  {
   "cell_type": "code",
   "execution_count": 52,
   "id": "59ed664b",
   "metadata": {},
   "outputs": [
    {
     "name": "stdout",
     "output_type": "stream",
     "text": [
      "<class 'int'>\n",
      "<class 'float'>\n"
     ]
    }
   ],
   "source": [
    "a = 42\n",
    "b = 32.30\n",
    "print(type(a))\n",
    "print(type(b))"
   ]
  },
  {
   "cell_type": "markdown",
   "id": "74bdd7d9",
   "metadata": {},
   "source": [
    "### List"
   ]
  },
  {
   "cell_type": "code",
   "execution_count": 60,
   "id": "80cd000e",
   "metadata": {},
   "outputs": [
    {
     "name": "stdout",
     "output_type": "stream",
     "text": [
      "[1, 2, 3, 4, 5, 6]\n"
     ]
    }
   ],
   "source": [
    "#Assign a list to an variable named my_list\n",
    "my_list = [1,2,3,4,5,6]\n",
    "print(my_list)"
   ]
  },
  {
   "cell_type": "code",
   "execution_count": 61,
   "id": "18f14a24",
   "metadata": {},
   "outputs": [
    {
     "name": "stdout",
     "output_type": "stream",
     "text": [
      "['A String', 233, 100.23, '0']\n"
     ]
    }
   ],
   "source": [
    "my_list2 = ['A String', 233, 100.23, '0']\n",
    "print(my_list2)"
   ]
  },
  {
   "cell_type": "code",
   "execution_count": 62,
   "id": "aff96dab",
   "metadata": {},
   "outputs": [
    {
     "data": {
      "text/plain": [
       "6"
      ]
     },
     "execution_count": 62,
     "metadata": {},
     "output_type": "execute_result"
    }
   ],
   "source": [
    "len(my_list)"
   ]
  },
  {
   "cell_type": "code",
   "execution_count": 63,
   "id": "e15b5e3e",
   "metadata": {},
   "outputs": [
    {
     "data": {
      "text/plain": [
       "4"
      ]
     },
     "execution_count": 63,
     "metadata": {},
     "output_type": "execute_result"
    }
   ],
   "source": [
    "len(my_list2)"
   ]
  },
  {
   "cell_type": "markdown",
   "id": "5ef7824b",
   "metadata": {},
   "source": [
    "#### Adding New Element to a list"
   ]
  },
  {
   "cell_type": "markdown",
   "id": "f87458c1",
   "metadata": {},
   "source": [
    "###### Append"
   ]
  },
  {
   "cell_type": "code",
   "execution_count": 106,
   "id": "80a99d39",
   "metadata": {},
   "outputs": [
    {
     "name": "stdout",
     "output_type": "stream",
     "text": [
      "[1, 2.3, ['a', 'b'], 'New York', 3.1]\n"
     ]
    }
   ],
   "source": [
    "my_list = ['one', 'two', 'three', 4, 5]\n",
    "\n",
    "#append a value to the end of the list\n",
    "l = [1, 2.3, ['a', 'b'], 'New York']\n",
    "l.append(3.1)\n",
    "print(l)"
   ]
  },
  {
   "cell_type": "code",
   "execution_count": 102,
   "id": "e07ef0c7",
   "metadata": {},
   "outputs": [
    {
     "name": "stdout",
     "output_type": "stream",
     "text": [
      "[1, 2, 3, 4, 5, 6]\n"
     ]
    }
   ],
   "source": [
    "#extend a list with another list\n",
    "l = [1, 2, 3]\n",
    "l.extend([4, 5, 6])\n",
    "print(l)"
   ]
  },
  {
   "cell_type": "markdown",
   "id": "207f9732",
   "metadata": {},
   "source": [
    "##### Insert"
   ]
  },
  {
   "cell_type": "code",
   "execution_count": 107,
   "id": "6a53c2e5",
   "metadata": {},
   "outputs": [
    {
     "data": {
      "text/plain": [
       "['one', 'two', 'three', 'four', 4, 5]"
      ]
     },
     "execution_count": 107,
     "metadata": {},
     "output_type": "execute_result"
    }
   ],
   "source": [
    "my_list.insert(3, 'four')\n",
    "my_list"
   ]
  },
  {
   "cell_type": "markdown",
   "id": "d0550282",
   "metadata": {},
   "source": [
    "##### Slicing"
   ]
  },
  {
   "cell_type": "code",
   "execution_count": 4,
   "id": "a6b33e70",
   "metadata": {},
   "outputs": [
    {
     "name": "stdout",
     "output_type": "stream",
     "text": [
      "[0, 1, 2, 3, 4, 5, 6, 7, 8, 9]\n",
      "\n",
      "elements from index 4 to 7: [4, 5, 6]\n",
      "alternate elements, starting at index 0: [0, 2, 4, 6, 8]\n",
      "\n",
      "every third elements, starting at index 1: [1, 4, 7]\n"
     ]
    }
   ],
   "source": [
    "lst = list(range(10))\n",
    "print(lst)\n",
    "print()\n",
    "print(\"elements from index 4 to 7:\", lst[4:7])\n",
    "print(\"alternate elements, starting at index 0:\", lst[0::2])\n",
    "print()\n",
    "print(\"every third elements, starting at index 1:\", lst[1::3])"
   ]
  },
  {
   "cell_type": "code",
   "execution_count": null,
   "id": "d55a9e3a",
   "metadata": {},
   "outputs": [],
   "source": []
  },
  {
   "cell_type": "markdown",
   "id": "d5497711",
   "metadata": {},
   "source": [
    "### Dictionaries"
   ]
  },
  {
   "cell_type": "code",
   "execution_count": 108,
   "id": "8fdaf3f7",
   "metadata": {},
   "outputs": [
    {
     "data": {
      "text/plain": [
       "'value2'"
      ]
     },
     "execution_count": 108,
     "metadata": {},
     "output_type": "execute_result"
    }
   ],
   "source": [
    "# make a dictionary with {} and : to signify a key and a value\n",
    "my_dict = {'key1':'value1', 'key2':'value2'}\n",
    "\n",
    "#call values by their key\n",
    "my_dict['key2']"
   ]
  },
  {
   "cell_type": "code",
   "execution_count": 120,
   "id": "1eb38bcc",
   "metadata": {},
   "outputs": [
    {
     "data": {
      "text/plain": [
       "{'key1': 1234, 'key2': 'value2'}"
      ]
     },
     "execution_count": 120,
     "metadata": {},
     "output_type": "execute_result"
    }
   ],
   "source": [
    "my_dict['key1'] = 1234\n",
    "my_dict"
   ]
  },
  {
   "cell_type": "code",
   "execution_count": 121,
   "id": "fa9c0d10",
   "metadata": {},
   "outputs": [
    {
     "data": {
      "text/plain": [
       "1111"
      ]
     },
     "execution_count": 121,
     "metadata": {},
     "output_type": "execute_result"
    }
   ],
   "source": [
    "#substract 123 from the value\n",
    "my_dict['key1'] = my_dict['key1'] - 123\n",
    "\n",
    "#check\n",
    "my_dict['key1']"
   ]
  },
  {
   "cell_type": "code",
   "execution_count": 122,
   "id": "622846cd",
   "metadata": {},
   "outputs": [
    {
     "data": {
      "text/plain": [
       "-123"
      ]
     },
     "execution_count": 122,
     "metadata": {},
     "output_type": "execute_result"
    }
   ],
   "source": [
    "# set the object equal to itself minus 123\n",
    "my_dict['key1'] -= 1234\n",
    "my_dict['key1']"
   ]
  },
  {
   "cell_type": "code",
   "execution_count": 123,
   "id": "68407be8",
   "metadata": {},
   "outputs": [],
   "source": [
    "# create a new dictionary\n",
    "d = {}\n",
    "\n",
    "# create a new key througj assignment\n",
    "d['animal'] = \"Bear\""
   ]
  },
  {
   "cell_type": "code",
   "execution_count": 124,
   "id": "fdc4916b",
   "metadata": {},
   "outputs": [
    {
     "data": {
      "text/plain": [
       "'Bear'"
      ]
     },
     "execution_count": 124,
     "metadata": {},
     "output_type": "execute_result"
    }
   ],
   "source": [
    "d['animal']"
   ]
  },
  {
   "cell_type": "markdown",
   "id": "777d8e65",
   "metadata": {},
   "source": [
    "### Set and Booleans"
   ]
  },
  {
   "cell_type": "markdown",
   "id": "b3199b4e",
   "metadata": {},
   "source": [
    "#### Set"
   ]
  },
  {
   "cell_type": "code",
   "execution_count": 126,
   "id": "b363109d",
   "metadata": {},
   "outputs": [
    {
     "name": "stdout",
     "output_type": "stream",
     "text": [
      "{1}\n"
     ]
    }
   ],
   "source": [
    "x = set()\n",
    "\n",
    "# we add to sets with the add() method\n",
    "x.add(1)\n",
    "\n",
    "#show\n",
    "print(x)"
   ]
  },
  {
   "cell_type": "code",
   "execution_count": 127,
   "id": "e66214e1",
   "metadata": {},
   "outputs": [
    {
     "data": {
      "text/plain": [
       "{1, 2}"
      ]
     },
     "execution_count": 127,
     "metadata": {},
     "output_type": "execute_result"
    }
   ],
   "source": [
    "x.add(2)\n",
    "x"
   ]
  },
  {
   "cell_type": "code",
   "execution_count": 129,
   "id": "2e52da33",
   "metadata": {},
   "outputs": [
    {
     "data": {
      "text/plain": [
       "{1, 2}"
      ]
     },
     "execution_count": 129,
     "metadata": {},
     "output_type": "execute_result"
    }
   ],
   "source": [
    "x.add(1)\n",
    "x"
   ]
  },
  {
   "cell_type": "code",
   "execution_count": 130,
   "id": "e24afada",
   "metadata": {},
   "outputs": [
    {
     "data": {
      "text/plain": [
       "{1, 2, 3, 4, 5}"
      ]
     },
     "execution_count": 130,
     "metadata": {},
     "output_type": "execute_result"
    }
   ],
   "source": [
    "#create a list with repeats\n",
    "l = [1, 1, 2, 3, 3, 4, 4, 5, 5, 5, 1, 2]\n",
    "set(l)"
   ]
  },
  {
   "cell_type": "code",
   "execution_count": null,
   "id": "32c44dc1",
   "metadata": {},
   "outputs": [],
   "source": []
  }
 ],
 "metadata": {
  "kernelspec": {
   "display_name": "Python 3 (ipykernel)",
   "language": "python",
   "name": "python3"
  },
  "language_info": {
   "codemirror_mode": {
    "name": "ipython",
    "version": 3
   },
   "file_extension": ".py",
   "mimetype": "text/x-python",
   "name": "python",
   "nbconvert_exporter": "python",
   "pygments_lexer": "ipython3",
   "version": "3.9.7"
  }
 },
 "nbformat": 4,
 "nbformat_minor": 5
}
